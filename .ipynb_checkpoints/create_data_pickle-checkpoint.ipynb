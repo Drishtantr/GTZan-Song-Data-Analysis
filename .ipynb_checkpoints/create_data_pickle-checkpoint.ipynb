{
 "cells": [
  {
   "cell_type": "code",
   "execution_count": 1,
   "metadata": {},
   "outputs": [
    {
     "name": "stderr",
     "output_type": "stream",
     "text": [
      "Using TensorFlow backend.\n"
     ]
    }
   ],
   "source": [
    "from common import load_track, GENRES\n",
    "import sys\n",
    "import numpy as np\n",
    "from math import pi\n",
    "from pickle import dump\n",
    "import os\n",
    "from optparse import OptionParser\n",
    "\n",
    "import sys; sys.argv=['']; del sys\n",
    "\n",
    "\n",
    "import matplotlib.style as ms\n",
    "ms.use('seaborn-muted')\n",
    "% matplotlib inline\n",
    "\n",
    "# and IPython.display for audio output\n",
    "import IPython.display\n",
    "import librosa.display"
   ]
  },
  {
   "cell_type": "code",
   "execution_count": 2,
   "metadata": {},
   "outputs": [],
   "source": [
    "TRACK_COUNT = 1000\n",
    "\n",
    "def get_default_shape(dataset_path):\n",
    "    tmp_features, _ = load_track(os.path.join(dataset_path,\n",
    "        'blues/blues.00000.au'))\n",
    "    return tmp_features.shape\n",
    "\n"
   ]
  },
  {
   "cell_type": "code",
   "execution_count": 3,
   "metadata": {},
   "outputs": [],
   "source": [
    "\n",
    "def collect_data(dataset_path):\n",
    "    '''\n",
    "    Collects data from the GTZAN dataset into a pickle. Computes a Mel-scaled\n",
    "    power spectrogram for each track.\n",
    "\n",
    "    :param dataset_path: path to the GTZAN dataset directory\n",
    "    :returns: triple (x, y, track_paths) where x is a matrix containing\n",
    "        extracted features, y is a one-hot matrix of genre labels and\n",
    "        track_paths is a dict of absolute track paths indexed by row indices in\n",
    "        the x and y matrices\n",
    "    '''\n",
    "    default_shape = get_default_shape(dataset_path)\n",
    "    x = np.zeros((TRACK_COUNT,) + default_shape, dtype=np.float32)\n",
    "    y = np.zeros((TRACK_COUNT, len(GENRES)), dtype=np.float32)\n",
    "    track_paths = {}\n",
    "\n",
    "    for (genre_index, genre_name) in enumerate(GENRES):\n",
    "        for i in range(TRACK_COUNT // len(GENRES)):\n",
    "            file_name = '{}/{}.000{}.au'.format(genre_name,\n",
    "                    genre_name, str(i).zfill(2))\n",
    "            print('Processing', file_name)\n",
    "            path = os.path.join(dataset_path, file_name)\n",
    "            track_index = genre_index  * (TRACK_COUNT // len(GENRES)) + i\n",
    "            x[track_index], _ = load_track(path, default_shape)\n",
    "            y[track_index, genre_index] = 1\n",
    "            track_paths[track_index] = os.path.abspath(path)\n",
    "\n",
    "    return (x, y, track_paths)\n",
    "\n"
   ]
  },
  {
   "cell_type": "code",
   "execution_count": 4,
   "metadata": {},
   "outputs": [
    {
     "name": "stdout",
     "output_type": "stream",
     "text": [
      "Processing blues/blues.00000.au\n",
      "Processing blues/blues.00001.au\n",
      "hi /home/infinity/MGR/genre-recognition-master/data/genres/blues/blues.00001.au\n"
     ]
    },
    {
     "ename": "NameError",
     "evalue": "name 'plt' is not defined",
     "output_type": "error",
     "traceback": [
      "\u001b[0;31m---------------------------------------------------------------------------\u001b[0m",
      "\u001b[0;31mNameError\u001b[0m                                 Traceback (most recent call last)",
      "\u001b[0;32m<ipython-input-4-d2acc296f6dd>\u001b[0m in \u001b[0;36m<module>\u001b[0;34m()\u001b[0m\n\u001b[1;32m     22\u001b[0m     \u001b[0moptions\u001b[0m\u001b[0;34m,\u001b[0m \u001b[0margs\u001b[0m \u001b[0;34m=\u001b[0m \u001b[0mparser\u001b[0m\u001b[0;34m.\u001b[0m\u001b[0mparse_args\u001b[0m\u001b[0;34m(\u001b[0m\u001b[0;34m)\u001b[0m\u001b[0;34m\u001b[0m\u001b[0m\n\u001b[1;32m     23\u001b[0m \u001b[0;34m\u001b[0m\u001b[0m\n\u001b[0;32m---> 24\u001b[0;31m     \u001b[0;34m(\u001b[0m\u001b[0mx\u001b[0m\u001b[0;34m,\u001b[0m \u001b[0my\u001b[0m\u001b[0;34m,\u001b[0m \u001b[0mtrack_paths\u001b[0m\u001b[0;34m)\u001b[0m \u001b[0;34m=\u001b[0m \u001b[0mcollect_data\u001b[0m\u001b[0;34m(\u001b[0m\u001b[0moptions\u001b[0m\u001b[0;34m.\u001b[0m\u001b[0mdataset_path\u001b[0m\u001b[0;34m)\u001b[0m\u001b[0;34m\u001b[0m\u001b[0m\n\u001b[0m\u001b[1;32m     25\u001b[0m \u001b[0;34m\u001b[0m\u001b[0m\n\u001b[1;32m     26\u001b[0m \u001b[0;34m\u001b[0m\u001b[0m\n",
      "\u001b[0;32m<ipython-input-3-4120ae3f080b>\u001b[0m in \u001b[0;36mcollect_data\u001b[0;34m(dataset_path)\u001b[0m\n\u001b[1;32m     23\u001b[0m             \u001b[0mpath\u001b[0m \u001b[0;34m=\u001b[0m \u001b[0mos\u001b[0m\u001b[0;34m.\u001b[0m\u001b[0mpath\u001b[0m\u001b[0;34m.\u001b[0m\u001b[0mjoin\u001b[0m\u001b[0;34m(\u001b[0m\u001b[0mdataset_path\u001b[0m\u001b[0;34m,\u001b[0m \u001b[0mfile_name\u001b[0m\u001b[0;34m)\u001b[0m\u001b[0;34m\u001b[0m\u001b[0m\n\u001b[1;32m     24\u001b[0m             \u001b[0mtrack_index\u001b[0m \u001b[0;34m=\u001b[0m \u001b[0mgenre_index\u001b[0m  \u001b[0;34m*\u001b[0m \u001b[0;34m(\u001b[0m\u001b[0mTRACK_COUNT\u001b[0m \u001b[0;34m//\u001b[0m \u001b[0mlen\u001b[0m\u001b[0;34m(\u001b[0m\u001b[0mGENRES\u001b[0m\u001b[0;34m)\u001b[0m\u001b[0;34m)\u001b[0m \u001b[0;34m+\u001b[0m \u001b[0mi\u001b[0m\u001b[0;34m\u001b[0m\u001b[0m\n\u001b[0;32m---> 25\u001b[0;31m             \u001b[0mx\u001b[0m\u001b[0;34m[\u001b[0m\u001b[0mtrack_index\u001b[0m\u001b[0;34m]\u001b[0m\u001b[0;34m,\u001b[0m \u001b[0m_\u001b[0m \u001b[0;34m=\u001b[0m \u001b[0mload_track\u001b[0m\u001b[0;34m(\u001b[0m\u001b[0mpath\u001b[0m\u001b[0;34m,\u001b[0m \u001b[0mdefault_shape\u001b[0m\u001b[0;34m)\u001b[0m\u001b[0;34m\u001b[0m\u001b[0m\n\u001b[0m\u001b[1;32m     26\u001b[0m             \u001b[0my\u001b[0m\u001b[0;34m[\u001b[0m\u001b[0mtrack_index\u001b[0m\u001b[0;34m,\u001b[0m \u001b[0mgenre_index\u001b[0m\u001b[0;34m]\u001b[0m \u001b[0;34m=\u001b[0m \u001b[0;36m1\u001b[0m\u001b[0;34m\u001b[0m\u001b[0m\n\u001b[1;32m     27\u001b[0m             \u001b[0mtrack_paths\u001b[0m\u001b[0;34m[\u001b[0m\u001b[0mtrack_index\u001b[0m\u001b[0;34m]\u001b[0m \u001b[0;34m=\u001b[0m \u001b[0mos\u001b[0m\u001b[0;34m.\u001b[0m\u001b[0mpath\u001b[0m\u001b[0;34m.\u001b[0m\u001b[0mabspath\u001b[0m\u001b[0;34m(\u001b[0m\u001b[0mpath\u001b[0m\u001b[0;34m)\u001b[0m\u001b[0;34m\u001b[0m\u001b[0m\n",
      "\u001b[0;32m~/MGR/genre-recognition-master/common.py\u001b[0m in \u001b[0;36mload_track\u001b[0;34m(filename, enforce_shape)\u001b[0m\n\u001b[1;32m     52\u001b[0m     \u001b[0mqwerty\u001b[0m\u001b[0;34m=\u001b[0m\u001b[0mint\u001b[0m\u001b[0;34m(\u001b[0m\u001b[0mfilename\u001b[0m\u001b[0;34m[\u001b[0m\u001b[0;34m-\u001b[0m\u001b[0;36m8\u001b[0m\u001b[0;34m:\u001b[0m\u001b[0;34m-\u001b[0m\u001b[0;36m3\u001b[0m\u001b[0;34m]\u001b[0m\u001b[0;34m)\u001b[0m\u001b[0;34m%\u001b[0m\u001b[0;36m20\u001b[0m\u001b[0;34m\u001b[0m\u001b[0m\n\u001b[1;32m     53\u001b[0m     \u001b[0;32mif\u001b[0m \u001b[0mqwerty\u001b[0m\u001b[0;34m==\u001b[0m\u001b[0;36m1\u001b[0m\u001b[0;34m:\u001b[0m\u001b[0;34m\u001b[0m\u001b[0m\n\u001b[0;32m---> 54\u001b[0;31m         \u001b[0mdispMyMel\u001b[0m\u001b[0;34m(\u001b[0m\u001b[0mfeatures\u001b[0m\u001b[0;34m,\u001b[0m\u001b[0mfilename\u001b[0m\u001b[0;34m)\u001b[0m\u001b[0;34m\u001b[0m\u001b[0m\n\u001b[0m\u001b[1;32m     55\u001b[0m \u001b[0;34m\u001b[0m\u001b[0m\n\u001b[1;32m     56\u001b[0m     \u001b[0;32mif\u001b[0m \u001b[0menforce_shape\u001b[0m \u001b[0;32mis\u001b[0m \u001b[0;32mnot\u001b[0m \u001b[0;32mNone\u001b[0m\u001b[0;34m:\u001b[0m\u001b[0;34m\u001b[0m\u001b[0m\n",
      "\u001b[0;32m~/MGR/genre-recognition-master/common.py\u001b[0m in \u001b[0;36mdispMyMel\u001b[0;34m(S, audio_path)\u001b[0m\n\u001b[1;32m     24\u001b[0m         \u001b[0mprint\u001b[0m\u001b[0;34m(\u001b[0m\u001b[0;34m\"hi\"\u001b[0m\u001b[0;34m,\u001b[0m\u001b[0maudio_path\u001b[0m\u001b[0;34m)\u001b[0m\u001b[0;34m\u001b[0m\u001b[0m\n\u001b[1;32m     25\u001b[0m         \u001b[0;31m# Make a new figure\u001b[0m\u001b[0;34m\u001b[0m\u001b[0;34m\u001b[0m\u001b[0m\n\u001b[0;32m---> 26\u001b[0;31m         \u001b[0mplt\u001b[0m\u001b[0;34m.\u001b[0m\u001b[0mfigure\u001b[0m\u001b[0;34m(\u001b[0m\u001b[0mfigsize\u001b[0m\u001b[0;34m=\u001b[0m\u001b[0;34m(\u001b[0m\u001b[0;36m12\u001b[0m\u001b[0;34m,\u001b[0m\u001b[0;36m4\u001b[0m\u001b[0;34m)\u001b[0m\u001b[0;34m)\u001b[0m\u001b[0;34m\u001b[0m\u001b[0m\n\u001b[0m\u001b[1;32m     27\u001b[0m \u001b[0;34m\u001b[0m\u001b[0m\n\u001b[1;32m     28\u001b[0m         \u001b[0;31m# Display the spectrogram on a mel scale\u001b[0m\u001b[0;34m\u001b[0m\u001b[0;34m\u001b[0m\u001b[0m\n",
      "\u001b[0;31mNameError\u001b[0m: name 'plt' is not defined"
     ]
    }
   ],
   "source": [
    "if __name__ == '__main__':\n",
    "    parser = OptionParser()\n",
    "\n",
    "    parser.add_option('-d', '--dataset_path', dest='dataset_path',\n",
    "            #default=os.path.join(os.path.dirname(__file__), 'data/genres'),\n",
    "            default=os.path.join(os.getcwd(), 'data/genres'),\n",
    "            help='path to the GTZAN dataset directory', metavar='DATASET_PATH')\n",
    "    '''\n",
    "    os.path.dirname(sys.argv[0]) or os.path.dirname(__file__). \n",
    "\n",
    "    Both these locations find the path of the currently running Python script file.\n",
    "\n",
    "    Usually, __file__ is the best choice.\n",
    "    '''\n",
    "   \n",
    "    parser.add_option('-o', '--output_pkl_path', dest='output_pkl_path',\n",
    "            #default=os.path.join(os.path.dirname(__file__), 'data/data.pkl'),\n",
    "            default=os.path.join(os.getcwd(), 'data/data.pkl'),\n",
    "            help='path to the output pickle', metavar='OUTPUT_PKL_PATH')\n",
    "    \n",
    "\n",
    "    options, args = parser.parse_args()\n",
    "   \n",
    "    (x, y, track_paths) = collect_data(options.dataset_path)\n",
    "    \n",
    " \n",
    "    data = {'x': x, 'y': y, 'track_paths': track_paths}\n",
    "    with open(options.output_pkl_path, 'wb') as f:\n",
    "        dump(data, f)\n"
   ]
  },
  {
   "cell_type": "code",
   "execution_count": null,
   "metadata": {},
   "outputs": [],
   "source": []
  },
  {
   "cell_type": "code",
   "execution_count": null,
   "metadata": {},
   "outputs": [],
   "source": []
  },
  {
   "cell_type": "code",
   "execution_count": null,
   "metadata": {},
   "outputs": [],
   "source": []
  },
  {
   "cell_type": "code",
   "execution_count": null,
   "metadata": {},
   "outputs": [],
   "source": []
  }
 ],
 "metadata": {
  "kernelspec": {
   "display_name": "Python 3",
   "language": "python",
   "name": "python3"
  },
  "language_info": {
   "codemirror_mode": {
    "name": "ipython",
    "version": 3
   },
   "file_extension": ".py",
   "mimetype": "text/x-python",
   "name": "python",
   "nbconvert_exporter": "python",
   "pygments_lexer": "ipython3",
   "version": "3.6.5"
  }
 },
 "nbformat": 4,
 "nbformat_minor": 2
}
